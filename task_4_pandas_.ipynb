{
  "nbformat": 4,
  "nbformat_minor": 0,
  "metadata": {
    "colab": {
      "name": "task 4 pandas..",
      "provenance": [],
      "collapsed_sections": []
    },
    "kernelspec": {
      "name": "python3",
      "display_name": "Python 3"
    },
    "language_info": {
      "name": "python"
    }
  },
  "cells": [
    {
      "cell_type": "code",
      "source": [
        "#Assessment\n",
        "#I am going to provide two .csv files , you are supposed to work on them and have to provide solutions to the following problems\n",
        "#import necessary libraries\n",
        "import pandas as pd\n",
        "import math \n",
        "import numpy as np\n",
        "import os\n",
        "import matplotlib.pyplot as plt"
      ],
      "metadata": {
        "id": "CBbSVXpaLOCN"
      },
      "execution_count": 26,
      "outputs": []
    },
    {
      "cell_type": "code",
      "source": [
        "from google.colab import drive\n",
        "drive.mount('/content/drive/')"
      ],
      "metadata": {
        "colab": {
          "base_uri": "https://localhost:8080/"
        },
        "id": "-HWnIdonHM6l",
        "outputId": "c13e233d-b91b-4c24-fda8-49ba18f90c98"
      },
      "execution_count": 27,
      "outputs": [
        {
          "output_type": "stream",
          "name": "stdout",
          "text": [
            "Mounted at /content/drive/\n"
          ]
        }
      ]
    },
    {
      "cell_type": "code",
      "source": [
        "#merge those two csv files (after getting as dataframes, get them as a single dataframe)\n",
        "df_1= pd.read_csv(\"college_1.csv\")\n",
        "df_2= pd.read_csv(\"college_2.csv\")\n",
        "\n",
        "df_1=pd.DataFrame(df_1)\n",
        "df_2=pd.DataFrame(df_2)\n",
        "\n",
        "'''\n",
        "df_1.info()\n",
        "df_2.info()\n",
        "df_1.describe()\n",
        "df_2.describe() \n",
        "'''\n",
        "\n",
        "#concatenated = pd.concat([df_1, df_2])\n",
        "#concatenated.info()\n",
        "\n",
        "concatenated=pd.merge(df_1,df_2,how='outer')\n",
        "concatenated.reset_index(drop=True, inplace=True)\n",
        "concatenated"
      ],
      "metadata": {
        "id": "XT0M6p3hO8yZ"
      },
      "execution_count": null,
      "outputs": []
    },
    {
      "cell_type": "code",
      "source": [
        "#Take each csv file , split that csv file into multiple categories (example csv files are added in the repo)\n",
        "#consider if the codekata score exceeds 15000 points(present week) then make a csv on those observations as Exceeded expectations.csv\n",
        "#if 10000<codekata score<15000 (Reached_expectations.csv)\n",
        "#if 7000<codekata score<10000 (Needs_Improvement.csv)\n",
        "#if codekate score < 7000 (Unsatisfactory.csv)\n",
        "\n",
        "#Exceeded expectations\n",
        "exceedExp= concatenated['CodeKata Score']>15000\n",
        "concatenated[exceedExp].to_csv('Exceeded_expectations.csv')\n",
        "\n",
        "#Reached_expectations\n",
        "reachedExp= (10000<concatenated['CodeKata Score']) & (concatenated['CodeKata Score']<15000)\n",
        "concatenated[reachedExp].to_csv('Reached_expectations.csv')"
      ],
      "metadata": {
        "id": "IyeGFyPLQlGA"
      },
      "execution_count": null,
      "outputs": []
    },
    {
      "cell_type": "code",
      "source": [
        "\n",
        "#Needs_Improvement\n",
        "needImp=(7000<concatenated['CodeKata Score']) & (concatenated['CodeKata Score']<10000)\n",
        "concatenated[needImp].to_csv('Needs_Improvement.csv')\n",
        "\n",
        "#Unsatisfactory\n",
        "Unsatis= concatenated['CodeKata Score']<7000\n",
        "concatenated[Unsatis].to_csv('Unsatisfactory.csv')"
      ],
      "metadata": {
        "id": "Tp1J23b0QuDS"
      },
      "execution_count": null,
      "outputs": []
    },
    {
      "cell_type": "code",
      "source": [
        "#Average of previous week geekions vs this week geekions (i.e Previous Geekions vs CodeKata Score)\n",
        "#Average of previous week geekions\n",
        "concatenated['Previous Geekions'].mean()\n",
        "\n",
        "#Average of this week geekions\n",
        "concatenated['CodeKata Score'].mean()"
      ],
      "metadata": {
        "id": "lXzqiGi8QyJK"
      },
      "execution_count": null,
      "outputs": []
    },
    {
      "cell_type": "code",
      "source": [
        "#No of students participated\n",
        "#concatenated.groupby('Name')['Name'].count()\n",
        "#print(concatenated)\n",
        "concatenated['Name'].count()\n"
      ],
      "metadata": {
        "id": "WXySIxj3ZbHP"
      },
      "execution_count": null,
      "outputs": []
    },
    {
      "cell_type": "code",
      "source": [
        "#Average completion of python course or my_sql or python english or computational thinking\n",
        "[concatenated['python'].mean(),\n",
        "concatenated['mysql'].mean(),\n",
        "concatenated['python_en'].mean(),\n",
        "concatenated['computational_thinking'].mean()]\n",
        "\n",
        "# [54.35294117647059, 23.5, 29.65714285714286, 2.2]"
      ],
      "metadata": {
        "id": "XPNG0m8mZt_Z"
      },
      "execution_count": null,
      "outputs": []
    },
    {
      "cell_type": "code",
      "source": [
        "# rising star of the week (top 3 candidate who performed well in that particular week)\n",
        "concatenated.sort_values(\"Rising\", axis = 0, ascending = False).head(3)"
      ],
      "metadata": {
        "colab": {
          "base_uri": "https://localhost:8080/",
          "height": 183
        },
        "id": "e_fy-uoTRI5f",
        "outputId": "a59890b4-6b71-4db8-ffaf-c41b5dd76dac"
      },
      "execution_count": 11,
      "outputs": [
        {
          "output_type": "error",
          "ename": "NameError",
          "evalue": "ignored",
          "traceback": [
            "\u001b[0;31m---------------------------------------------------------------------------\u001b[0m",
            "\u001b[0;31mNameError\u001b[0m                                 Traceback (most recent call last)",
            "\u001b[0;32m<ipython-input-11-08b869794c1f>\u001b[0m in \u001b[0;36m<module>\u001b[0;34m()\u001b[0m\n\u001b[1;32m      1\u001b[0m \u001b[0;31m# rising star of the week (top 3 candidate who performed well in that particular week)\u001b[0m\u001b[0;34m\u001b[0m\u001b[0;34m\u001b[0m\u001b[0;34m\u001b[0m\u001b[0m\n\u001b[0;32m----> 2\u001b[0;31m \u001b[0mconcatenated\u001b[0m\u001b[0;34m.\u001b[0m\u001b[0msort_values\u001b[0m\u001b[0;34m(\u001b[0m\u001b[0;34m\"Rising\"\u001b[0m\u001b[0;34m,\u001b[0m \u001b[0maxis\u001b[0m \u001b[0;34m=\u001b[0m \u001b[0;36m0\u001b[0m\u001b[0;34m,\u001b[0m \u001b[0mascending\u001b[0m \u001b[0;34m=\u001b[0m \u001b[0;32mFalse\u001b[0m\u001b[0;34m)\u001b[0m\u001b[0;34m.\u001b[0m\u001b[0mhead\u001b[0m\u001b[0;34m(\u001b[0m\u001b[0;36m3\u001b[0m\u001b[0;34m)\u001b[0m\u001b[0;34m\u001b[0m\u001b[0;34m\u001b[0m\u001b[0m\n\u001b[0m",
            "\u001b[0;31mNameError\u001b[0m: name 'concatenated' is not defined"
          ]
        }
      ]
    },
    {
      "cell_type": "code",
      "source": [
        ""
      ],
      "metadata": {
        "id": "i-UiuDXoRZee"
      },
      "execution_count": null,
      "outputs": []
    },
    {
      "cell_type": "code",
      "source": [
        "#Shining stars of the week (top 3 candidates who has highest geekions)\n",
        "#top 3 Shining stars of the week\n",
        "concatenated.sort_values(\"Previous Geekions\", axis = 0, ascending = False).head(3)"
      ],
      "metadata": {
        "id": "v5sKSNmaRPJ1"
      },
      "execution_count": null,
      "outputs": []
    },
    {
      "cell_type": "code",
      "source": [
        "#  Department wise codekata performence (pie chart)\n",
        "dept=concatenated.pivot_table(index = 'Department', values='CodeKata Score')\n",
        "dept.plot(kind='pie',y='CodeKata Score',autopct='%1.0f%%')\n",
        "\n",
        "#dept_name = concatenated['Department'].values()\n",
        "#dept_score = concatenated['CodeKata Score'].values()\n",
        "'''\n",
        "dept_details = concatenated[[\"Department\",\"CodeKata Score\"]]\n",
        "\n",
        "plt.pie(dept_details[\"CodeKata Score\"], labels = dept_details[\"Department\"])\n",
        "plt.show() \n",
        "#print(dept_details)\n",
        "pie_source = dept_details.groupby('Department')['CodeKata Score'].max()\n",
        "pie_source\n",
        "'''"
      ],
      "metadata": {
        "id": "uwXBEP3HRbPJ"
      },
      "execution_count": null,
      "outputs": []
    },
    {
      "cell_type": "code",
      "source": [
        "# Department wise toppers (horizantal bar graph or any visual representations of your choice)\n",
        "\n",
        "#cse topper\n",
        "cs=(college['Department']=='Computer Science and Engineering')\n",
        "cse= college[cs]\n",
        "\n",
        "cse1= cse.sort_values(['Previous Geekions','python','mysql','CodeKata Score','computational_thinking'], ascending = False).head(1)"
      ],
      "metadata": {
        "id": "EYr0uudzRmN2"
      },
      "execution_count": null,
      "outputs": []
    },
    {
      "cell_type": "code",
      "source": [
        "#ece topper\n",
        "ec=(college['Department']=='Electronics and Communication Engineering')\n",
        "ece= college[ec]\n",
        "\n",
        "ece1= ece.sort_values(['Previous Geekions','python','mysql','CodeKata Score','computational_thinking'], ascending = False).head(1)"
      ],
      "metadata": {
        "id": "iBtFFVeyR1NH"
      },
      "execution_count": null,
      "outputs": []
    },
    {
      "cell_type": "code",
      "source": [
        "#eee topper\n",
        "ee=(college['Department']=='Electronics and Electrical Engineering')\n",
        "eee= college[ee]\n",
        "\n",
        "eee1= eee.sort_values(['Previous Geekions','python','mysql','CodeKata Score','computational_thinking'], ascending = False).head(1)"
      ],
      "metadata": {
        "id": "XkgaHxETR4VA"
      },
      "execution_count": null,
      "outputs": []
    },
    {
      "cell_type": "code",
      "source": [
        "#combining three department topper data\n",
        "frames=[cse1,ece1,eee1]\n",
        "topperList= pd.concat(frames)\n",
        "#plotting them on chart\n",
        "topperList.plot.barh(x='Name',title='Department wise toppers')\n",
        "\n",
        "#concatenated['Department'].unique()\n",
        "'''\n",
        "dept_details = college[[\"Department\",\"CodeKata Score\"]]\n",
        "a = dept_details.groupby('Department')['CodeKata Score'].max()\n",
        "a = a.to_frame()\n",
        "a.rename(columns={'CodeKata Score': 'CodeKata_Score'}, inplace=True)\n",
        "new = pd.DataFrame([a.index, a.CodeKata_Score ]).transpose()\n",
        "'''"
      ],
      "metadata": {
        "id": "rfl4yN8-R5Oj"
      },
      "execution_count": null,
      "outputs": []
    }
  ]
}